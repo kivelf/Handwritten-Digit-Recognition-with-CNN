{
  "nbformat": 4,
  "nbformat_minor": 0,
  "metadata": {
    "colab": {
      "provenance": []
    },
    "kernelspec": {
      "name": "python3",
      "display_name": "Python 3"
    },
    "language_info": {
      "name": "python"
    }
  },
  "cells": [
    {
      "cell_type": "markdown",
      "source": [
        "Importing libraries"
      ],
      "metadata": {
        "id": "4IR9_t3pDGXU"
      }
    },
    {
      "cell_type": "code",
      "execution_count": 3,
      "metadata": {
        "id": "JPwZ5zSzCqYm"
      },
      "outputs": [],
      "source": [
        "import numpy as np\n",
        "import pandas as pd\n",
        "import matplotlib.pyplot as plt\n",
        "import seaborn as sns\n",
        "from sklearn.model_selection import train_test_split\n",
        "from sklearn.preprocessing import StandardScaler\n",
        "from sklearn.metrics import accuracy_score, confusion_matrix\n",
        "import tensorflow as tf\n",
        "from tensorflow.keras.datasets import mnist\n",
        "from tensorflow.keras.models import Sequential\n",
        "from tensorflow.keras.layers import Dense, Flatten, Conv2D, MaxPooling2D"
      ]
    },
    {
      "cell_type": "markdown",
      "source": [
        "Loading and preprocessing the data.\n",
        "\n",
        "Loading the MNIST dataset returns two tuples: one for the training data and one for the test data."
      ],
      "metadata": {
        "id": "5CRcjRfQDQTR"
      }
    },
    {
      "cell_type": "code",
      "source": [
        "(X_train, y_train), (X_test, y_test) = mnist.load_data()"
      ],
      "metadata": {
        "id": "aLUHw3ShDMbI",
        "colab": {
          "base_uri": "https://localhost:8080/"
        },
        "outputId": "a795c493-950e-4282-8569-507e34be3d91"
      },
      "execution_count": 4,
      "outputs": [
        {
          "output_type": "stream",
          "name": "stdout",
          "text": [
            "Downloading data from https://storage.googleapis.com/tensorflow/tf-keras-datasets/mnist.npz\n",
            "\u001b[1m11490434/11490434\u001b[0m \u001b[32m━━━━━━━━━━━━━━━━━━━━\u001b[0m\u001b[37m\u001b[0m \u001b[1m1s\u001b[0m 0us/step\n"
          ]
        }
      ]
    },
    {
      "cell_type": "markdown",
      "source": [
        "Normalising the data. Dividing by 255.0 scales the pixel values from the range [0, 255] to the range [0, 1]. This is important for neural networks as it helps in faster convergence during training."
      ],
      "metadata": {
        "id": "2PC6UqPjtsri"
      }
    },
    {
      "cell_type": "code",
      "source": [
        "X_train, X_test = X_train / 255.0, X_test / 255.0"
      ],
      "metadata": {
        "id": "YKcro2rtD5tk"
      },
      "execution_count": 5,
      "outputs": []
    },
    {
      "cell_type": "markdown",
      "source": [
        "Reshaping the data to fit the model. We have to reshape because the original shape of each image is (28, 28), but the CNN expects input data to have an additional dimension for the color channel. Since the images are grayscale we have to add a single channel (1) resulting in the shape (28, 28, 1)."
      ],
      "metadata": {
        "id": "eTQmtBJ8tr_V"
      }
    },
    {
      "cell_type": "code",
      "source": [
        "X_train = X_train.reshape(X_train.shape[0], 28, 28, 1)\n",
        "X_test = X_test.reshape(X_test.shape[0], 28, 28, 1)"
      ],
      "metadata": {
        "id": "1FLs5rOjD5Uv"
      },
      "execution_count": 6,
      "outputs": []
    },
    {
      "cell_type": "markdown",
      "source": [
        "One-hot encoding the labels. This means that we convert the labels from integers (0-9) to one-hot encoded vectors. For example the label '3' is converted to [0, 0, 0, 1, 0, 0, 0, 0, 0, 0]."
      ],
      "metadata": {
        "id": "zNecnT8utqH2"
      }
    },
    {
      "cell_type": "code",
      "source": [
        "y_train = tf.keras.utils.to_categorical(y_train, 10)\n",
        "y_test = tf.keras.utils.to_categorical(y_test, 10)"
      ],
      "metadata": {
        "id": "JjchvrevD4tH"
      },
      "execution_count": 7,
      "outputs": []
    },
    {
      "cell_type": "markdown",
      "source": [
        "Building the model.\n",
        "\n",
        "\n",
        "**Sequential** is a linear stack of layers.\n",
        "\n",
        "**Conv2D** applies a convolution operation to the input image which helps in extracting features such as edges, textures and such. It is a layer with 32 filters, each of size 3x3. The ReLU activation function introduces non-linearity.\n",
        "\n",
        "**MaxPooling2D** is a pooling layer that reduces the dimensionality (height and width) by taking the maximum value in each 2x2 block of the feature maps while still retaining the most important information.\n",
        "\n",
        "**Flatten** flattens (duh!) the 3D output of the convolutional layers into a 1D vector.\n",
        "\n",
        "Thanks to **Dense** we get fully connected layers where each neuron is connected to every neuron in the previous layer. The last Dense layer with softmax activation outputs the probabilities for each class (digits 0-9)."
      ],
      "metadata": {
        "id": "sn2MTfgyDhCj"
      }
    },
    {
      "cell_type": "code",
      "source": [
        "model = Sequential([\n",
        "    Conv2D(32, kernel_size=(3, 3), activation='relu', input_shape=(28, 28, 1)),\n",
        "    MaxPooling2D(pool_size=(2, 2)),\n",
        "    Flatten(),\n",
        "    Dense(128, activation='relu'),\n",
        "    Dense(10, activation='softmax')\n",
        "])"
      ],
      "metadata": {
        "colab": {
          "base_uri": "https://localhost:8080/"
        },
        "id": "ezBREb_eDi1J",
        "outputId": "b188cf1f-d377-41c3-aa05-0e859a8629a6"
      },
      "execution_count": 8,
      "outputs": [
        {
          "output_type": "stream",
          "name": "stderr",
          "text": [
            "/usr/local/lib/python3.10/dist-packages/keras/src/layers/convolutional/base_conv.py:107: UserWarning: Do not pass an `input_shape`/`input_dim` argument to a layer. When using Sequential models, prefer using an `Input(shape)` object as the first layer in the model instead.\n",
            "  super().__init__(activity_regularizer=activity_regularizer, **kwargs)\n"
          ]
        }
      ]
    },
    {
      "cell_type": "markdown",
      "source": [
        "Compiling the model.\n",
        "\n",
        "**optimizer='adam'**: Adam is an optimisation algorithm that adjusts the learning rate during training.\n",
        "\n",
        "**loss='categorical_crossentropy'** -this is the loss function used for multi-class classification problems.\n",
        "\n",
        "**metrics=['accuracy']** -this tells Keras to calculate accuracy during training and evaluation."
      ],
      "metadata": {
        "id": "kVQjYNLAz5Dt"
      }
    },
    {
      "cell_type": "code",
      "source": [
        "model.compile(optimizer='adam', loss='categorical_crossentropy', metrics=['accuracy'])"
      ],
      "metadata": {
        "id": "Hl0Hm3orz23m"
      },
      "execution_count": 9,
      "outputs": []
    },
    {
      "cell_type": "code",
      "source": [
        "model.summary()"
      ],
      "metadata": {
        "colab": {
          "base_uri": "https://localhost:8080/",
          "height": 306
        },
        "id": "1TQZJbkVDsGL",
        "outputId": "5caf2d8f-c44f-4440-8a59-241524c98851"
      },
      "execution_count": 10,
      "outputs": [
        {
          "output_type": "display_data",
          "data": {
            "text/plain": [
              "\u001b[1mModel: \"sequential\"\u001b[0m\n"
            ],
            "text/html": [
              "<pre style=\"white-space:pre;overflow-x:auto;line-height:normal;font-family:Menlo,'DejaVu Sans Mono',consolas,'Courier New',monospace\"><span style=\"font-weight: bold\">Model: \"sequential\"</span>\n",
              "</pre>\n"
            ]
          },
          "metadata": {}
        },
        {
          "output_type": "display_data",
          "data": {
            "text/plain": [
              "┏━━━━━━━━━━━━━━━━━━━━━━━━━━━━━━━━━━━━━━┳━━━━━━━━━━━━━━━━━━━━━━━━━━━━━┳━━━━━━━━━━━━━━━━━┓\n",
              "┃\u001b[1m \u001b[0m\u001b[1mLayer (type)                        \u001b[0m\u001b[1m \u001b[0m┃\u001b[1m \u001b[0m\u001b[1mOutput Shape               \u001b[0m\u001b[1m \u001b[0m┃\u001b[1m \u001b[0m\u001b[1m        Param #\u001b[0m\u001b[1m \u001b[0m┃\n",
              "┡━━━━━━━━━━━━━━━━━━━━━━━━━━━━━━━━━━━━━━╇━━━━━━━━━━━━━━━━━━━━━━━━━━━━━╇━━━━━━━━━━━━━━━━━┩\n",
              "│ conv2d (\u001b[38;5;33mConv2D\u001b[0m)                      │ (\u001b[38;5;45mNone\u001b[0m, \u001b[38;5;34m26\u001b[0m, \u001b[38;5;34m26\u001b[0m, \u001b[38;5;34m32\u001b[0m)          │             \u001b[38;5;34m320\u001b[0m │\n",
              "├──────────────────────────────────────┼─────────────────────────────┼─────────────────┤\n",
              "│ max_pooling2d (\u001b[38;5;33mMaxPooling2D\u001b[0m)         │ (\u001b[38;5;45mNone\u001b[0m, \u001b[38;5;34m13\u001b[0m, \u001b[38;5;34m13\u001b[0m, \u001b[38;5;34m32\u001b[0m)          │               \u001b[38;5;34m0\u001b[0m │\n",
              "├──────────────────────────────────────┼─────────────────────────────┼─────────────────┤\n",
              "│ flatten (\u001b[38;5;33mFlatten\u001b[0m)                    │ (\u001b[38;5;45mNone\u001b[0m, \u001b[38;5;34m5408\u001b[0m)                │               \u001b[38;5;34m0\u001b[0m │\n",
              "├──────────────────────────────────────┼─────────────────────────────┼─────────────────┤\n",
              "│ dense (\u001b[38;5;33mDense\u001b[0m)                        │ (\u001b[38;5;45mNone\u001b[0m, \u001b[38;5;34m128\u001b[0m)                 │         \u001b[38;5;34m692,352\u001b[0m │\n",
              "├──────────────────────────────────────┼─────────────────────────────┼─────────────────┤\n",
              "│ dense_1 (\u001b[38;5;33mDense\u001b[0m)                      │ (\u001b[38;5;45mNone\u001b[0m, \u001b[38;5;34m10\u001b[0m)                  │           \u001b[38;5;34m1,290\u001b[0m │\n",
              "└──────────────────────────────────────┴─────────────────────────────┴─────────────────┘\n"
            ],
            "text/html": [
              "<pre style=\"white-space:pre;overflow-x:auto;line-height:normal;font-family:Menlo,'DejaVu Sans Mono',consolas,'Courier New',monospace\">┏━━━━━━━━━━━━━━━━━━━━━━━━━━━━━━━━━━━━━━┳━━━━━━━━━━━━━━━━━━━━━━━━━━━━━┳━━━━━━━━━━━━━━━━━┓\n",
              "┃<span style=\"font-weight: bold\"> Layer (type)                         </span>┃<span style=\"font-weight: bold\"> Output Shape                </span>┃<span style=\"font-weight: bold\">         Param # </span>┃\n",
              "┡━━━━━━━━━━━━━━━━━━━━━━━━━━━━━━━━━━━━━━╇━━━━━━━━━━━━━━━━━━━━━━━━━━━━━╇━━━━━━━━━━━━━━━━━┩\n",
              "│ conv2d (<span style=\"color: #0087ff; text-decoration-color: #0087ff\">Conv2D</span>)                      │ (<span style=\"color: #00d7ff; text-decoration-color: #00d7ff\">None</span>, <span style=\"color: #00af00; text-decoration-color: #00af00\">26</span>, <span style=\"color: #00af00; text-decoration-color: #00af00\">26</span>, <span style=\"color: #00af00; text-decoration-color: #00af00\">32</span>)          │             <span style=\"color: #00af00; text-decoration-color: #00af00\">320</span> │\n",
              "├──────────────────────────────────────┼─────────────────────────────┼─────────────────┤\n",
              "│ max_pooling2d (<span style=\"color: #0087ff; text-decoration-color: #0087ff\">MaxPooling2D</span>)         │ (<span style=\"color: #00d7ff; text-decoration-color: #00d7ff\">None</span>, <span style=\"color: #00af00; text-decoration-color: #00af00\">13</span>, <span style=\"color: #00af00; text-decoration-color: #00af00\">13</span>, <span style=\"color: #00af00; text-decoration-color: #00af00\">32</span>)          │               <span style=\"color: #00af00; text-decoration-color: #00af00\">0</span> │\n",
              "├──────────────────────────────────────┼─────────────────────────────┼─────────────────┤\n",
              "│ flatten (<span style=\"color: #0087ff; text-decoration-color: #0087ff\">Flatten</span>)                    │ (<span style=\"color: #00d7ff; text-decoration-color: #00d7ff\">None</span>, <span style=\"color: #00af00; text-decoration-color: #00af00\">5408</span>)                │               <span style=\"color: #00af00; text-decoration-color: #00af00\">0</span> │\n",
              "├──────────────────────────────────────┼─────────────────────────────┼─────────────────┤\n",
              "│ dense (<span style=\"color: #0087ff; text-decoration-color: #0087ff\">Dense</span>)                        │ (<span style=\"color: #00d7ff; text-decoration-color: #00d7ff\">None</span>, <span style=\"color: #00af00; text-decoration-color: #00af00\">128</span>)                 │         <span style=\"color: #00af00; text-decoration-color: #00af00\">692,352</span> │\n",
              "├──────────────────────────────────────┼─────────────────────────────┼─────────────────┤\n",
              "│ dense_1 (<span style=\"color: #0087ff; text-decoration-color: #0087ff\">Dense</span>)                      │ (<span style=\"color: #00d7ff; text-decoration-color: #00d7ff\">None</span>, <span style=\"color: #00af00; text-decoration-color: #00af00\">10</span>)                  │           <span style=\"color: #00af00; text-decoration-color: #00af00\">1,290</span> │\n",
              "└──────────────────────────────────────┴─────────────────────────────┴─────────────────┘\n",
              "</pre>\n"
            ]
          },
          "metadata": {}
        },
        {
          "output_type": "display_data",
          "data": {
            "text/plain": [
              "\u001b[1m Total params: \u001b[0m\u001b[38;5;34m693,962\u001b[0m (2.65 MB)\n"
            ],
            "text/html": [
              "<pre style=\"white-space:pre;overflow-x:auto;line-height:normal;font-family:Menlo,'DejaVu Sans Mono',consolas,'Courier New',monospace\"><span style=\"font-weight: bold\"> Total params: </span><span style=\"color: #00af00; text-decoration-color: #00af00\">693,962</span> (2.65 MB)\n",
              "</pre>\n"
            ]
          },
          "metadata": {}
        },
        {
          "output_type": "display_data",
          "data": {
            "text/plain": [
              "\u001b[1m Trainable params: \u001b[0m\u001b[38;5;34m693,962\u001b[0m (2.65 MB)\n"
            ],
            "text/html": [
              "<pre style=\"white-space:pre;overflow-x:auto;line-height:normal;font-family:Menlo,'DejaVu Sans Mono',consolas,'Courier New',monospace\"><span style=\"font-weight: bold\"> Trainable params: </span><span style=\"color: #00af00; text-decoration-color: #00af00\">693,962</span> (2.65 MB)\n",
              "</pre>\n"
            ]
          },
          "metadata": {}
        },
        {
          "output_type": "display_data",
          "data": {
            "text/plain": [
              "\u001b[1m Non-trainable params: \u001b[0m\u001b[38;5;34m0\u001b[0m (0.00 B)\n"
            ],
            "text/html": [
              "<pre style=\"white-space:pre;overflow-x:auto;line-height:normal;font-family:Menlo,'DejaVu Sans Mono',consolas,'Courier New',monospace\"><span style=\"font-weight: bold\"> Non-trainable params: </span><span style=\"color: #00af00; text-decoration-color: #00af00\">0</span> (0.00 B)\n",
              "</pre>\n"
            ]
          },
          "metadata": {}
        }
      ]
    },
    {
      "cell_type": "markdown",
      "source": [
        "Training the model.\n",
        "\n",
        "**.fit()** trains the model.\n",
        "\n",
        "\n",
        "**X_train, y_train** are the training data and labels.\n",
        "\n",
        "\n",
        "**validation_split=0.2** means that 20% of the training data is used for validation.\n",
        "\n",
        "\n",
        "**epochs=10** is the number of times the entire training dataset is passed through the network.\n",
        "\n",
        "\n",
        "**batch_size=200** is the number of samples per gradient update.\n",
        "\n",
        "\n",
        "**verbose=2** - displays the training progress."
      ],
      "metadata": {
        "id": "jG63_-t-EIIe"
      }
    },
    {
      "cell_type": "code",
      "source": [
        "history = model.fit(X_train, y_train, validation_split=0.2, epochs=10, batch_size=200, verbose=2)"
      ],
      "metadata": {
        "colab": {
          "base_uri": "https://localhost:8080/"
        },
        "id": "RI4OiTEsEKdQ",
        "outputId": "12e9e580-4a8a-471a-d7f0-f7756a18a408"
      },
      "execution_count": 11,
      "outputs": [
        {
          "output_type": "stream",
          "name": "stdout",
          "text": [
            "Epoch 1/10\n",
            "240/240 - 23s - 95ms/step - accuracy: 0.9212 - loss: 0.2916 - val_accuracy: 0.9726 - val_loss: 0.1022\n",
            "Epoch 2/10\n",
            "240/240 - 42s - 175ms/step - accuracy: 0.9753 - loss: 0.0860 - val_accuracy: 0.9784 - val_loss: 0.0741\n",
            "Epoch 3/10\n",
            "240/240 - 41s - 173ms/step - accuracy: 0.9826 - loss: 0.0587 - val_accuracy: 0.9816 - val_loss: 0.0611\n",
            "Epoch 4/10\n",
            "240/240 - 22s - 92ms/step - accuracy: 0.9866 - loss: 0.0451 - val_accuracy: 0.9830 - val_loss: 0.0564\n",
            "Epoch 5/10\n",
            "240/240 - 41s - 173ms/step - accuracy: 0.9894 - loss: 0.0353 - val_accuracy: 0.9809 - val_loss: 0.0626\n",
            "Epoch 6/10\n",
            "240/240 - 41s - 171ms/step - accuracy: 0.9920 - loss: 0.0273 - val_accuracy: 0.9832 - val_loss: 0.0548\n",
            "Epoch 7/10\n",
            "240/240 - 41s - 172ms/step - accuracy: 0.9941 - loss: 0.0207 - val_accuracy: 0.9852 - val_loss: 0.0527\n",
            "Epoch 8/10\n",
            "240/240 - 21s - 88ms/step - accuracy: 0.9952 - loss: 0.0164 - val_accuracy: 0.9853 - val_loss: 0.0546\n",
            "Epoch 9/10\n",
            "240/240 - 43s - 178ms/step - accuracy: 0.9961 - loss: 0.0137 - val_accuracy: 0.9852 - val_loss: 0.0528\n",
            "Epoch 10/10\n",
            "240/240 - 44s - 184ms/step - accuracy: 0.9968 - loss: 0.0107 - val_accuracy: 0.9851 - val_loss: 0.0583\n"
          ]
        }
      ]
    },
    {
      "cell_type": "markdown",
      "source": [
        "Evaluating the model by computing the loss and accuracy on the test data.\n",
        "\n",
        "**verbose=0** suppresses the output.\n",
        "\n",
        "**score[0]** represents test loss and **score[1]** represents test accuracy."
      ],
      "metadata": {
        "id": "yQ037TTNFWzJ"
      }
    },
    {
      "cell_type": "code",
      "source": [
        "score = model.evaluate(X_test, y_test, verbose=0)\n",
        "print(f'Test loss: {score[0]} / Test accuracy: {score[1]}')"
      ],
      "metadata": {
        "colab": {
          "base_uri": "https://localhost:8080/"
        },
        "id": "iAgxy2ewFX2T",
        "outputId": "9874a0a6-3b17-4077-b47c-813df7921545"
      },
      "execution_count": 12,
      "outputs": [
        {
          "output_type": "stream",
          "name": "stdout",
          "text": [
            "Test loss: 0.050775282084941864 / Test accuracy: 0.9854000210762024\n"
          ]
        }
      ]
    },
    {
      "cell_type": "markdown",
      "source": [
        "Making predictions for the test data.\n",
        "\n",
        "**np.argmax(y_pred, axis=1)** converts the predicted probabilities to class labels.\n",
        "\n",
        "**np.argmax(y_test, axis=1)** converts the one-hot encoded test labels back to class labels."
      ],
      "metadata": {
        "id": "iVyN8BLXFdEU"
      }
    },
    {
      "cell_type": "code",
      "source": [
        "y_pred = model.predict(X_test)\n",
        "y_pred_classes = np.argmax(y_pred, axis=1)\n",
        "y_true = np.argmax(y_test, axis=1)"
      ],
      "metadata": {
        "colab": {
          "base_uri": "https://localhost:8080/"
        },
        "id": "dmX_a4T1Fa5v",
        "outputId": "46b3730b-a240-407a-9236-6f1050f74f71"
      },
      "execution_count": 13,
      "outputs": [
        {
          "output_type": "stream",
          "name": "stdout",
          "text": [
            "\u001b[1m313/313\u001b[0m \u001b[32m━━━━━━━━━━━━━━━━━━━━\u001b[0m\u001b[37m\u001b[0m \u001b[1m2s\u001b[0m 6ms/step\n"
          ]
        }
      ]
    },
    {
      "cell_type": "markdown",
      "source": [
        "Creating the confusion matrix.\n",
        "\n",
        "**sns.heatmap** plots the confusion matrix using a heatmap with some pretty blue colours. :)"
      ],
      "metadata": {
        "id": "ZpQYizLfO8Xz"
      }
    },
    {
      "cell_type": "code",
      "source": [
        "conf_matrix = confusion_matrix(y_true, y_pred_classes)\n",
        "plt.figure(figsize=(10, 8))\n",
        "sns.heatmap(conf_matrix, annot=True, fmt='d', cmap='Blues')\n",
        "plt.ylabel('Actual Label')\n",
        "plt.xlabel('Predicted Label')\n",
        "plt.show()"
      ],
      "metadata": {
        "colab": {
          "base_uri": "https://localhost:8080/",
          "height": 696
        },
        "id": "iIhvCrTeO6o7",
        "outputId": "a17b03c8-f828-46e8-c8e5-2aaa2368e67b"
      },
      "execution_count": 14,
      "outputs": [
        {
          "output_type": "display_data",
          "data": {
            "text/plain": [
              "<Figure size 1000x800 with 2 Axes>"
            ],
            "image/png": "[encoded data removed]"
          },
          "metadata": {}
        }
      ]
    },
    {
      "cell_type": "markdown",
      "source": [
        "Visualising some of the test results.\n",
        "\n",
        "**plt.subplots(3, 3, figsize=(8, 8))** creates a 3x3 grid of subplots.\n",
        "\n",
        "**axes = axes.ravel()** flattens the 2D array of axes to a 1D array for easy iteration.\n",
        "\n",
        "**axes[i].imshow(X_test[i].reshape(28, 28), cmap='gray')** displays the test image.\n",
        "\n",
        "**axes[i].axis('off')** hides the axis.\n",
        "\n",
        "**plt.subplots_adjust(wspace=0.5)** adjusts the spacing between subplots."
      ],
      "metadata": {
        "id": "lfPc61vhPMtC"
      }
    },
    {
      "cell_type": "code",
      "source": [
        "fig, axes = plt.subplots(3, 3, figsize=(8, 8))\n",
        "axes = axes.ravel()\n",
        "\n",
        "for i in np.arange(0, 9):\n",
        "    axes[i].imshow(X_test[i].reshape(28, 28), cmap='gray')\n",
        "    axes[i].set_title(f\"True: {y_true[i]} \\nPred: {y_pred_classes[i]}\")\n",
        "    axes[i].axis('off')\n",
        "\n",
        "plt.subplots_adjust(wspace=0.5)\n",
        "plt.show()"
      ],
      "metadata": {
        "colab": {
          "base_uri": "https://localhost:8080/",
          "height": 669
        },
        "id": "x5jmgmnlPC3K",
        "outputId": "22da045a-bab7-4633-ad70-931cc495166b"
      },
      "execution_count": 15,
      "outputs": [
        {
          "output_type": "display_data",
          "data": {
            "text/plain": [
              "<Figure size 800x800 with 9 Axes>"
            ],
            "image/png": "[encoded data removed]"
          },
          "metadata": {}
        }
      ]
    },
    {
      "cell_type": "code",
      "source": [
        "model.save('my_model.keras')  # we'll need this in a little bit (:"
      ],
      "metadata": {
        "id": "HWhcxeWaYyhr"
      },
      "execution_count": 25,
      "outputs": []
    }
  ]
}